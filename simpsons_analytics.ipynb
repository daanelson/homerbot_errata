{
 "cells": [
  {
   "cell_type": "code",
   "execution_count": 1,
   "id": "a3d4cf5e-e9be-4571-8deb-2a2348aca33a",
   "metadata": {},
   "outputs": [],
   "source": [
    "import pandas as pd"
   ]
  },
  {
   "cell_type": "code",
   "execution_count": 2,
   "id": "13f4a775-c442-43cd-bedb-82ce69ad3776",
   "metadata": {},
   "outputs": [],
   "source": [
    "path = 'simpsons_script_lines.csv'"
   ]
  },
  {
   "cell_type": "code",
   "execution_count": 3,
   "id": "84cec93b-6d1f-461d-9588-8a02c214d929",
   "metadata": {},
   "outputs": [
    {
     "name": "stderr",
     "output_type": "stream",
     "text": [
      "/var/folders/0q/132d4mqx32z7hhp3qh_g3vrm0000gn/T/ipykernel_25783/3280352130.py:1: DtypeWarning: Columns (4,5,6) have mixed types. Specify dtype option on import or set low_memory=False.\n",
      "  df = pd.read_csv(path)\n"
     ]
    }
   ],
   "source": [
    "df = pd.read_csv(path)"
   ]
  },
  {
   "cell_type": "code",
   "execution_count": 4,
   "id": "b70a34ef-aaaa-4c4d-8a20-da5b87b99fe7",
   "metadata": {},
   "outputs": [
    {
     "data": {
      "text/plain": [
       "Homer Simpson            29842\n",
       "Marge Simpson            14159\n",
       "Bart Simpson             13777\n",
       "Lisa Simpson             11502\n",
       "C. Montgomery Burns       3172\n",
       "                         ...  \n",
       "Santa's Little Helper       74\n",
       "Annie Crawford              74\n",
       "Artie Ziff                  73\n",
       "Young Marge                 72\n",
       "George H.W. Bush            72\n",
       "Name: raw_character_text, Length: 100, dtype: int64"
      ]
     },
     "execution_count": 4,
     "metadata": {},
     "output_type": "execute_result"
    }
   ],
   "source": [
    "df.raw_character_text.value_counts()[:100]"
   ]
  },
  {
   "cell_type": "code",
   "execution_count": 5,
   "id": "4daef8e6-0390-4722-884d-3e85cb658e53",
   "metadata": {},
   "outputs": [],
   "source": [
    "episodes = 'simpsons_episodes.csv'"
   ]
  },
  {
   "cell_type": "code",
   "execution_count": 6,
   "id": "a4b8fc65-d2aa-404b-a684-691f6ea7fce6",
   "metadata": {},
   "outputs": [],
   "source": [
    "ep_df = pd.read_csv(episodes)"
   ]
  },
  {
   "cell_type": "code",
   "execution_count": 62,
   "id": "7779807c-29e7-4d96-b54a-bc906ce65243",
   "metadata": {
    "tags": []
   },
   "outputs": [
    {
     "data": {
      "text/plain": [
       "6     25\n",
       "7     25\n",
       "8     25\n",
       "9     25\n",
       "3     24\n",
       "10    23\n",
       "21    23\n",
       "15    22\n",
       "17    22\n",
       "25    22\n",
       "24    22\n",
       "23    22\n",
       "22    22\n",
       "18    22\n",
       "14    22\n",
       "2     22\n",
       "27    22\n",
       "13    22\n",
       "11    22\n",
       "5     22\n",
       "4     22\n",
       "26    22\n",
       "16    21\n",
       "20    21\n",
       "12    21\n",
       "19    20\n",
       "1     13\n",
       "28     4\n",
       "Name: season, dtype: int64"
      ]
     },
     "execution_count": 62,
     "metadata": {},
     "output_type": "execute_result"
    }
   ],
   "source": [
    "ep_df.season.value_counts()"
   ]
  },
  {
   "cell_type": "code",
   "execution_count": 8,
   "id": "fda6a7f9-4118-4313-a89e-113dfb7f9ffa",
   "metadata": {},
   "outputs": [],
   "source": [
    "good_season_episodes = ep_df[ep_df['season'] <= 12]"
   ]
  },
  {
   "cell_type": "code",
   "execution_count": 9,
   "id": "832e631b-fd70-4507-a11d-d77e8f3574cd",
   "metadata": {},
   "outputs": [],
   "source": [
    "good_df = df[df.episode_id.isin(good_season_episodes.id)]"
   ]
  },
  {
   "cell_type": "code",
   "execution_count": 10,
   "id": "5516a7d7-92f8-4466-b9d1-e4ce3538033a",
   "metadata": {
    "tags": []
   },
   "outputs": [
    {
     "data": {
      "text/plain": [
       "Homer Simpson          15346\n",
       "Bart Simpson            7501\n",
       "Marge Simpson           6721\n",
       "Lisa Simpson            5571\n",
       "C. Montgomery Burns     1827\n",
       "                       ...  \n",
       "Mutant Sideshow Mel        1\n",
       "Man At Bar                 1\n",
       "Little Girls               1\n",
       "Young Barney               1\n",
       "Passerby                   1\n",
       "Name: raw_character_text, Length: 3371, dtype: int64"
      ]
     },
     "execution_count": 10,
     "metadata": {},
     "output_type": "execute_result"
    }
   ],
   "source": [
    "good_df.raw_character_text.value_counts()"
   ]
  },
  {
   "cell_type": "markdown",
   "id": "258bd26c-7523-4867-9458-5ddb535f5241",
   "metadata": {},
   "source": [
    "K. So what does a pipeline look like here? \n",
    "\n",
    "Take script for good season. Sort it by episode and then by date. \n",
    "\n",
    "For (episode), go through and generate a \"prompt\": \"line... CHAR:\" ... \"completion\": \"text\" \n",
    "\n",
    "Trailing context - start with 5 lines, make this configurable\n",
    "\n",
    "For every line, if `raw_character_text` is not in top 50 characters, replace with \"NPC\""
   ]
  },
  {
   "cell_type": "code",
   "execution_count": 11,
   "id": "4460df89-27b8-450a-8b3d-6d7a0dea57ce",
   "metadata": {},
   "outputs": [],
   "source": [
    "good_df = good_df.sort_values(by='id')"
   ]
  },
  {
   "cell_type": "code",
   "execution_count": 12,
   "id": "a3348f89-ff93-4ce1-9e98-b1ef938d8d72",
   "metadata": {},
   "outputs": [],
   "source": [
    "good_df.raw_character_text = good_df.raw_character_text.fillna('Nobody')"
   ]
  },
  {
   "cell_type": "code",
   "execution_count": 13,
   "id": "f56a7ef8-3e85-4f52-bb4d-54491402a181",
   "metadata": {},
   "outputs": [
    {
     "data": {
      "text/plain": [
       "array(['Homer Simpson', 'Nobody', 'Bart Simpson', 'Marge Simpson',\n",
       "       'Lisa Simpson', 'C. Montgomery Burns', 'Seymour Skinner',\n",
       "       'Moe Szyslak', 'Ned Flanders', 'Grampa Simpson',\n",
       "       'Krusty the Clown', 'Chief Wiggum', 'Milhouse Van Houten',\n",
       "       'Waylon Smithers', 'Apu Nahasapeemapetilon', 'Kent Brockman',\n",
       "       'Nelson Muntz', 'Barney Gumble', 'Lenny Leonard',\n",
       "       'Edna Krabappel-Flanders', 'Sideshow Bob', 'Dr. Julius Hibbert',\n",
       "       'Selma Bouvier', 'Ralph Wiggum', 'Rev. Timothy Lovejoy', 'Crowd',\n",
       "       'Carl Carlson', 'Patty Bouvier', 'Mayor Joe Quimby', 'Otto Mann',\n",
       "       'Groundskeeper Willie', 'Martin Prince', 'Announcer',\n",
       "       'Comic Book Guy', 'Kids', 'Lionel Hutz', 'HERB', 'Sideshow Mel',\n",
       "       'Gary Chalmers', 'Professor Jonathan Frink', 'Jimbo Jones', 'Lou',\n",
       "       'Todd Flanders', 'Miss Hoover', 'Agnes Skinner', 'Maude Flanders',\n",
       "       'Troy McClure', 'Fat Tony', 'Snake Jailbird', 'TROY'], dtype=object)"
      ]
     },
     "execution_count": 13,
     "metadata": {},
     "output_type": "execute_result"
    }
   ],
   "source": [
    "good_df.raw_character_text.value_counts()[:50].index.values"
   ]
  },
  {
   "cell_type": "code",
   "execution_count": 14,
   "id": "b7a87505-4b34-4ebd-9db4-172b727ab521",
   "metadata": {},
   "outputs": [],
   "source": [
    "import numpy as np"
   ]
  },
  {
   "cell_type": "markdown",
   "id": "61d12059-ba8f-41de-9c57-e0785ed3c5cf",
   "metadata": {},
   "source": [
    "This fills in actions"
   ]
  },
  {
   "cell_type": "code",
   "execution_count": 15,
   "id": "4a41cf47-fd7d-46a1-a026-5644b4fd03e3",
   "metadata": {},
   "outputs": [],
   "source": [
    "good_df.spoken_words = good_df.spoken_words.fillna('nan')"
   ]
  },
  {
   "cell_type": "code",
   "execution_count": 16,
   "id": "26d2fc16-2d25-438e-88ef-1ce0c3f97614",
   "metadata": {},
   "outputs": [],
   "source": [
    "sub_df = good_df[good_df.apply(lambda r: r.spoken_words == 'nan' and r.raw_character_text != 'Nobody', axis=1)]"
   ]
  },
  {
   "cell_type": "code",
   "execution_count": 17,
   "id": "73534827-799d-42ae-8f4c-abb5219f2dc8",
   "metadata": {},
   "outputs": [],
   "source": [
    "new_spoken_words = sub_df.apply(lambda r: r.raw_text.split(\":\")[1], axis=1)"
   ]
  },
  {
   "cell_type": "code",
   "execution_count": 18,
   "id": "c678b80f-0bc7-4f72-8d15-7f03432ae2b3",
   "metadata": {},
   "outputs": [],
   "source": [
    "def add_actions(r):\n",
    "    if r.spoken_words == 'nan' and r.raw_character_text != 'Nobody':\n",
    "        return r.raw_text.split(\":\")[-1]\n",
    "    return r.spoken_words"
   ]
  },
  {
   "cell_type": "code",
   "execution_count": 19,
   "id": "9036eff5-c4b3-46a6-b45d-62db6925c45e",
   "metadata": {},
   "outputs": [],
   "source": [
    "good_df.spoken_words = good_df.apply(lambda r: add_actions(r), axis=1)"
   ]
  },
  {
   "cell_type": "markdown",
   "id": "685e4488-0fa1-462d-a97d-cd9c66c42237",
   "metadata": {},
   "source": [
    "Next, we want to figure out how many tokens are in a set of lines"
   ]
  },
  {
   "cell_type": "code",
   "execution_count": 22,
   "id": "063f70da-99aa-43be-9394-8d9b6d1eb986",
   "metadata": {},
   "outputs": [],
   "source": [
    "import transformers"
   ]
  },
  {
   "cell_type": "code",
   "execution_count": 21,
   "id": "a31db99b-ae5f-42be-999f-9097e0d9e6c6",
   "metadata": {},
   "outputs": [
    {
     "name": "stderr",
     "output_type": "stream",
     "text": [
      "/Users/dan/miniconda3/envs/base_ml/lib/python3.9/site-packages/tqdm/auto.py:21: TqdmWarning: IProgress not found. Please update jupyter and ipywidgets. See https://ipywidgets.readthedocs.io/en/stable/user_install.html\n",
      "  from .autonotebook import tqdm as notebook_tqdm\n"
     ]
    }
   ],
   "source": [
    "from transformers import AutoTokenizer"
   ]
  },
  {
   "cell_type": "markdown",
   "id": "21076049-f95d-4013-915b-d8cd8b88cb81",
   "metadata": {},
   "source": [
    "llama is finicky, this is basically the same"
   ]
  },
  {
   "cell_type": "code",
   "execution_count": 22,
   "id": "1b93ce72-a712-4efd-8bca-856385ab488c",
   "metadata": {},
   "outputs": [],
   "source": [
    "tok = AutoTokenizer.from_pretrained('google/flan-t5-xl')"
   ]
  },
  {
   "cell_type": "markdown",
   "id": "fa3db64b-d7c0-4104-8709-b1e744035a21",
   "metadata": {},
   "source": [
    "A token is basically a token"
   ]
  },
  {
   "cell_type": "code",
   "execution_count": 34,
   "id": "70599abc-4df8-471c-aa4a-776860585e99",
   "metadata": {},
   "outputs": [],
   "source": [
    "import numpy as np"
   ]
  },
  {
   "cell_type": "markdown",
   "id": "3ee4a45e-5fa6-4356-bc5c-6ff98ceeb217",
   "metadata": {},
   "source": [
    "How many lines does it take to get to 1500 tokens? "
   ]
  },
  {
   "cell_type": "code",
   "execution_count": 26,
   "id": "5fc792b8-96cf-48b7-b43d-96ede1b30986",
   "metadata": {},
   "outputs": [
    {
     "name": "stdout",
     "output_type": "stream",
     "text": [
      "tokens: 1514\n",
      "n lines: 91\n",
      "tokens: 1509\n",
      "n lines: 121\n"
     ]
    }
   ],
   "source": [
    "for samp in range(2):\n",
    "    n = np.random.randint(good_df.shape[0])\n",
    "    orig_n = n\n",
    "    n_tokens = 0\n",
    "    while n_tokens < 1500:\n",
    "        text = good_df.iloc[n].spoken_words\n",
    "        #print(f'text: {text}')\n",
    "        tokenized = tok(text, return_tensors='pt').input_ids\n",
    "        #print(f'tokenized {tokenized}')\n",
    "        n_tokens += tokenized.shape[1]\n",
    "        n+=1\n",
    "    print(f'tokens: {n_tokens}')\n",
    "    print(f'n lines: {n - orig_n}')"
   ]
  },
  {
   "cell_type": "markdown",
   "id": "532abdee-ee5d-4c1d-8c4f-c70a588eec86",
   "metadata": {},
   "source": [
    "Calculate number of tokens. "
   ]
  },
  {
   "cell_type": "code",
   "execution_count": 30,
   "id": "ad0c7c5c-a7d8-4797-b9ea-50cfe6bb3195",
   "metadata": {},
   "outputs": [],
   "source": [
    "def max_scenes(df):\n",
    "    cur_scene = []\n",
    "    big_tuples = []\n",
    "    for ind, line in df.iterrows():\n",
    "        if line.raw_character_text == 'Nobody':\n",
    "            n_tokens = len(tok(' '.join(cur_scene))['input_ids'])\n",
    "            big_tuples.append((len(cur_scene), n_tokens))\n",
    "            cur_scene = []\n",
    "        else:\n",
    "            cur_scene.append(line.spoken_words)\n",
    "    return big_tuples"
   ]
  },
  {
   "cell_type": "code",
   "execution_count": 31,
   "id": "16782fb3-916a-463a-8607-19d8ba97d94c",
   "metadata": {},
   "outputs": [],
   "source": [
    "res = max_scenes(good_df)"
   ]
  },
  {
   "cell_type": "code",
   "execution_count": 34,
   "id": "923077e0-de62-480e-940c-d52c41c3161b",
   "metadata": {},
   "outputs": [],
   "source": [
    "lines_per_scene = [val[0] for val in res if val[0] > 0 ]"
   ]
  },
  {
   "cell_type": "code",
   "execution_count": 60,
   "id": "2efb4bc9-506c-4577-b6ad-7d6499beb459",
   "metadata": {},
   "outputs": [],
   "source": [
    "total_tokens = sum([val[1] for val in res])"
   ]
  },
  {
   "cell_type": "code",
   "execution_count": 61,
   "id": "45c6bbdf-2bbf-4b2d-b889-92f61804a421",
   "metadata": {},
   "outputs": [
    {
     "data": {
      "text/plain": [
       "1113577"
      ]
     },
     "execution_count": 61,
     "metadata": {},
     "output_type": "execute_result"
    }
   ],
   "source": [
    "total_tokens"
   ]
  },
  {
   "cell_type": "code",
   "execution_count": 37,
   "id": "61f61355-7315-4a03-ae77-af926ef09d42",
   "metadata": {},
   "outputs": [],
   "source": [
    "tokens_per_scene = [val[1] for val in res if val[0] > 0 ]"
   ]
  },
  {
   "cell_type": "code",
   "execution_count": 39,
   "id": "c57fe2ef-c921-4024-bab8-1c11c731b8d8",
   "metadata": {},
   "outputs": [],
   "source": [
    "import matplotlib.pyplot as plt\n",
    "import seaborn as sns\n",
    "sns.set()"
   ]
  },
  {
   "cell_type": "code",
   "execution_count": 51,
   "id": "1ebfafe1-a837-4342-a9db-7e5e70dca337",
   "metadata": {},
   "outputs": [
    {
     "data": {
      "text/plain": [
       "Text(0.5, 1.0, 'Lines per scene in The Simpsons')"
      ]
     },
     "execution_count": 51,
     "metadata": {},
     "output_type": "execute_result"
    },
    {
     "data": {
      "image/png": "[encoded data removed]",
      "text/plain": [
       "<Figure size 640x480 with 1 Axes>"
      ]
     },
     "metadata": {},
     "output_type": "display_data"
    }
   ],
   "source": [
    "plt.hist(lines_per_scene, bins=np.arange(0, 70, 5))\n",
    "plt.xlabel('lines')\n",
    "plt.ylabel('scene count')\n",
    "plt.title('Lines per scene in The Simpsons')"
   ]
  },
  {
   "cell_type": "code",
   "execution_count": 52,
   "id": "d9a34bff-df62-49d1-9c06-5387f6947b32",
   "metadata": {},
   "outputs": [
    {
     "data": {
      "text/plain": [
       "Text(0.5, 1.0, 'Tokens per scene in The Simpsons')"
      ]
     },
     "execution_count": 52,
     "metadata": {},
     "output_type": "execute_result"
    },
    {
     "data": {
      "image/png": "[encoded data removed]",
      "text/plain": [
       "<Figure size 640x480 with 1 Axes>"
      ]
     },
     "metadata": {},
     "output_type": "display_data"
    }
   ],
   "source": [
    "plt.hist(tokens_per_scene, bins = np.arange(0,1500, 100))\n",
    "plt.xlabel('tokens')\n",
    "plt.ylabel('scene count')\n",
    "plt.title('Tokens per scene in The Simpsons')"
   ]
  },
  {
   "cell_type": "markdown",
   "id": "d06a0cfa-5a65-4a6f-8dd0-3f02cfd21082",
   "metadata": {},
   "source": [
    "I say let's take 50 lines. Still arbitrary. "
   ]
  },
  {
   "cell_type": "code",
   "execution_count": 53,
   "id": "cf9b7fc7-18cf-48c5-a6f5-304edce381d0",
   "metadata": {},
   "outputs": [],
   "source": [
    "CONTEXT_LINES = 50"
   ]
  },
  {
   "cell_type": "code",
   "execution_count": 54,
   "id": "9bbcb2dd-ae55-4740-bc62-1c3477347f8d",
   "metadata": {},
   "outputs": [],
   "source": [
    "def generate_data(df):\n",
    "    cur_scene = []\n",
    "    for ind, line in df.iterrows():\n",
    "        if line.raw_character_text == 'Nobody':\n",
    "            process_scene(cur_scene)\n",
    "            cur_scene = []\n",
    "        else:\n",
    "            cur_scene.append((line.raw_character_text, line.spoken_words))"
   ]
  },
  {
   "cell_type": "code",
   "execution_count": 55,
   "id": "16eef3c5-c0ea-46ed-b669-0696a6be0715",
   "metadata": {},
   "outputs": [],
   "source": [
    "data = []"
   ]
  },
  {
   "cell_type": "code",
   "execution_count": 56,
   "id": "68557f04-0c42-48cf-97f8-5e7fbd73f4dd",
   "metadata": {},
   "outputs": [],
   "source": [
    "def build_text(preamble):\n",
    "    return '\\n'.join([f\"{char}: {text}\" for char, text in preamble])\n",
    "\n",
    "def process_scene(cur_scene):\n",
    "    if len(cur_scene) <= 1:\n",
    "        return\n",
    "    for ind in range(1, len(cur_scene)):\n",
    "        prompt = build_text(cur_scene[max(0, ind-CONTEXT_LINES):ind])\n",
    "        cur_char, cur_text = cur_scene[ind]\n",
    "        data.append({'p': prompt, 'c': cur_char, 'l': cur_text})\n",
    "        \n",
    "        \n",
    "        "
   ]
  },
  {
   "cell_type": "code",
   "execution_count": 57,
   "id": "c8626631-6599-4763-94b1-c4b095e55d68",
   "metadata": {
    "tags": []
   },
   "outputs": [],
   "source": [
    "generate_data(good_df)"
   ]
  },
  {
   "cell_type": "code",
   "execution_count": 58,
   "id": "d5a08aea-d3a2-43ba-875c-caa7616faa3a",
   "metadata": {
    "tags": []
   },
   "outputs": [
    {
     "data": {
      "text/plain": [
       "61884"
      ]
     },
     "execution_count": 58,
     "metadata": {},
     "output_type": "execute_result"
    }
   ],
   "source": [
    "len(data)"
   ]
  },
  {
   "cell_type": "markdown",
   "id": "a1cf7b0a-5411-4a41-9d18-02d7dd156f0c",
   "metadata": {},
   "source": [
    "great, works. Fantastic, no notes. "
   ]
  },
  {
   "cell_type": "code",
   "execution_count": 98,
   "id": "32ecb2d1-ed38-4cee-8e87-cae395b4b740",
   "metadata": {},
   "outputs": [],
   "source": [
    "with open('processed_conversations/simpsons_data_two.json', 'w') as f:\n",
    "    json.dump(data, f)"
   ]
  },
  {
   "cell_type": "code",
   "execution_count": 100,
   "id": "8ccb0e1f-e895-41c0-817f-2aa53bc16185",
   "metadata": {},
   "outputs": [
    {
     "data": {
      "text/plain": [
       "('Marge Simpson: Ooo, careful, Homer.\\nHomer Simpson:',\n",
       " \"There's no time to be careful.\")"
      ]
     },
     "execution_count": 100,
     "metadata": {},
     "output_type": "execute_result"
    }
   ],
   "source": [
    "data[0]"
   ]
  },
  {
   "cell_type": "code",
   "execution_count": 106,
   "id": "b94724b0-e5b5-476e-a451-dfb28193b255",
   "metadata": {},
   "outputs": [
    {
     "data": {
      "text/plain": [
       "61884"
      ]
     },
     "execution_count": 106,
     "metadata": {},
     "output_type": "execute_result"
    }
   ],
   "source": [
    "len(data)"
   ]
  },
  {
   "cell_type": "code",
   "execution_count": 107,
   "id": "b8c56eb1-c919-43c2-9ede-adb120608db5",
   "metadata": {},
   "outputs": [],
   "source": [
    "import numpy as np"
   ]
  },
  {
   "cell_type": "code",
   "execution_count": 95,
   "id": "42aecb1d-631f-4350-8d59-3e5153963983",
   "metadata": {
    "collapsed": true,
    "jupyter": {
     "outputs_hidden": true
    },
    "tags": []
   },
   "outputs": [
    {
     "name": "stdout",
     "output_type": "stream",
     "text": [
      "\n",
      "\n",
      "{'p': 'Seymour Skinner: Now, hold it right there you...', 'c': 'Agnes Skinner', 'l': 'Spanky...'}\n",
      "\n",
      "\n",
      "{'p': \"Homer Simpson: Oh, yeah. That's it, baby, that's the money shot. Yeah, the camera loves you. Oh-ho-ho, you tease, you.\", 'c': 'Bart Simpson', 'l': 'Why are you taping Flanders, Dad?'}\n",
      "\n",
      "\n",
      "{'p': \"Bart Simpson: If you gain 61 pounds, they'll let you work at home?\\nHomer Simpson: Yuh-huh, that's the deal. No more exercise program! No more traffic! No more blood drives or charity walks!\", 'c': 'Bart Simpson', 'l': \"Dad, I know we don't do a lot together, but helping you gain 61 pounds is something I want to be a part of.\"}\n",
      "\n",
      "\n",
      "{'p': \"Rick: 'Pretty cool of your mom to let us hang out here.\\nErin: Totally. Not like my mom. She'd be butting in with rice crispie squares and Tang.\\nRick: My dad's all stoked 'cause today's the Fourth of July. He woke me up at dawn to take a loyalty oath.\\nDean: My mom's French, so we only celebrate Bastille Day.\\nLisa Simpson: Well, we could do something fun. Um, how 'bout a beach party?\\nErin: Great idea, Lis.\\nRick: Yeah, I know where there's a beach!\\nDean: I know where we can get some baguettes!\\nMarge Simpson: Gee, I don't know what you've got planned for tonight, Homer, but count me out. Didn't you buy any meat?\\nHomer Simpson: This baby's sure to kill something. Okay, now everybody -- stand back while I celebrate freedom. Bart, give me your matches.\\nBart Simpson: Fresh out.\\nHomer Simpson: No lighter?... Nothin'?\\nHomer Simpson: Wait, I got it.\\nHomer Simpson:  (ANNOYED GRUNT)\\nHomer Simpson: The beer!\\nHomer Simpson:  (RELIEVED SIGH)\\nHomer Simpson:  (CASUAL WHISTLING)\\nBart Simpson: Oh, this is the worst Fourth of July ever. I hate America! Come on, Milhouse, let's go down there.\\nMarge Simpson: I don't think you should. Let Lisa be alone with her new friends.\\nBart Simpson: They're my friends, rightfully. She only got them by copying me!\\nLisa Simpson: Don't have a cow, man!\\nKids:  (LAUGHTER)\\nBart Simpson: See?! That's my expression!\\nMarge Simpson: Oh, you haven't said that in four years. Let Lisa have it.\\nBart Simpson: It's the principle. She's gotta learn!\\nMarge Simpson: No! Now park your keister, meester!\", 'c': 'Lisa Simpson', 'l': 'Aye carumba!'}\n",
      "\n",
      "\n",
      "{'p': \"Lisa Simpson: Thank you for arranging this, Dr. Hibbert.\\nDr. Julius Hibbert: Oh anything I can do to stem the tide of entertainment-related injury. Now, children you're about to meet the world's greatest daredevil, Lance Murdock.\\nDr. Julius Hibbert: Lance, this is Lisa and Bart Simpson. Bart is one of your biggest fans.\\nBart Simpson: It's an honor, Lance. How you feeling?\\nMURDOCK: Ow! Doc, I heard a snap.\\nDr. Julius Hibbert: Hmm. I'm afraid the bone's broken. Well, that's all of them.\\nMURDOCK: Don't worry, partner. I've broken that thumb dozens of times. Hey, I bet you'd like an autograph. Nurse.\\nMURDOCK: Who should I make this out to?\\nBart Simpson: Just Bart will be fine, sir.\\nMURDOCK: To Bart: Thanks for visiting me at Springfield General Hospital. Your visit was a ray of sunshine on an otherwise cloudy day. Your pal, Captain Lance Murdock.\", 'c': 'Bart Simpson', 'l': 'Wow, man! Thanks, Lance.'}\n",
      "\n",
      "\n",
      "{'p': \"Homer Simpson: That horse better win, or we're taking a trip to the glue factory and he won't get to come.\\nLenny Leonard: Yeah, that's a great tour, but you can't see it all in one day.\\nCarl Carlson: Hey, be quiet.\\nTrack Announcer: And away they go!\", 'c': 'Lenny Leonard', 'l': 'Go, Duncan! / Go, Number \"5\"! Let\\'s go, Number \"5\"! / Do it for Lenny!'}\n",
      "\n",
      "\n",
      "{'p': \"Edna Krabappel-Flanders: Well, it's going to be hard to say good-bye to all of you. We've had a lot of fun together.\\nEdna Krabappel-Flanders: Nelson, Nelson, Nelson. Oh, how many kids have you beaten up this year?\\nNelson Muntz: I 'unno. Fifty.\", 'c': 'Edna Krabappel-Flanders', 'l': 'Ah, fifty... Where does the time go?'}\n",
      "\n",
      "\n",
      "{'p': \"Homer Simpson: Well, nice talking to you.\\nHomer Simpson: Lisa?\\nLisa Simpson: Miss Hoover thought I made the whole thing up. She called me a P.C. thug.\\nHomer Simpson: I've been called a greasy thug too, and it never stops hurting. So here's what we're gonna do: grease ourselves up real good, and trash that place with a baseball bat.\\nLisa Simpson: That won't help, Dad. No one's ever going to believe me.\\nHomer Simpson: But you have proof! We could go get that confession out of Jebediah's fife.\\nLisa Simpson: We could?\\nHomer Simpson: Come on, we can use the baseball bat to smash open the case.\\nLisa Simpson: No baseball bat.\", 'c': 'Homer Simpson', 'l': ' (DISAPPOINTED MOAN)'}\n",
      "\n",
      "\n",
      "{'p': \"Goon: Hey, no one-termers.\\nJimmy Carter: You too, huh? Hey, I know a good yogurt place.\\nGeorge H.W. Bush: Get away from me, loser.\\nWaylon Smithers: Ladies and gentlemen: I give you Montgomery Burns: the life.\\nC. Montgomery Burns: Bobo!\\nWaylon Smithers: Here are several fine young men, who I'm sure are gonna go far. Ladies and Gentlemen, the Ramones.\\nC. Montgomery Burns: Ahh, these minstrels will soothe my jangled nerves.\\nRAMONE #1: I'd just like to say this gig sucks.\\nRAMONE #2: Hey, up Yours, Springfield.\\nRAMONE #3: One-two-three-four!\", 'c': 'RAMONE #4', 'l': 'Go to hell, you old bastard.'}\n",
      "\n",
      "\n",
      "{'p': \"Lou: And Cinderella had the most beautiful gown at the ball. With eight satin petticoats, each more delicate than the last. I think he's asleep.\\nEddie: Want to get a cup of coffee?\\nLou: Okay. Brave little guy.\\nEddie: Hey, I almost tripped over this thing.\\nBart Simpson:  (DEATH SCREAM)\\nBart Simpson: What did I do to deserve this?\\nBart Simpson: Help! Help! I fell down the well.\", 'c': 'Eddie', 'l': \"Tell us something we don't know.\"}\n"
     ]
    }
   ],
   "source": [
    "for val in range(10):\n",
    "    print('\\n')\n",
    "    sample = data[np.random.randint(len(data))]\n",
    "    print(sample)"
   ]
  },
  {
   "cell_type": "code",
   "execution_count": null,
   "id": "bf3a7f05-e50d-41f5-a39a-80e309fe3941",
   "metadata": {},
   "outputs": [],
   "source": []
  }
 ],
 "metadata": {
  "kernelspec": {
   "display_name": "Python 3 (ipykernel)",
   "language": "python",
   "name": "python3"
  },
  "language_info": {
   "codemirror_mode": {
    "name": "ipython",
    "version": 3
   },
   "file_extension": ".py",
   "mimetype": "text/x-python",
   "name": "python",
   "nbconvert_exporter": "python",
   "pygments_lexer": "ipython3",
   "version": "3.9.16"
  }
 },
 "nbformat": 4,
 "nbformat_minor": 5
}
